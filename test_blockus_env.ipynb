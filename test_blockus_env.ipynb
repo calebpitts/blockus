{
 "cells": [
  {
   "cell_type": "code",
   "execution_count": 1,
   "metadata": {},
   "outputs": [],
   "source": [
    "from blockus_env import BlockusEnv, string_to_action"
   ]
  },
  {
   "cell_type": "code",
   "execution_count": 2,
   "metadata": {},
   "outputs": [],
   "source": [
    "env = BlockusEnv()\n"
   ]
  },
  {
   "cell_type": "code",
   "execution_count": 3,
   "metadata": {},
   "outputs": [],
   "source": [
    "state = env.new_state()"
   ]
  },
  {
   "cell_type": "code",
   "execution_count": 4,
   "metadata": {},
   "outputs": [
    {
     "data": {
      "text/plain": [
       "(<board.Board at 0x7fb030121390>,\n",
       " 0,\n",
       " [<ai.AI at 0x7fb0301213c8>,\n",
       "  <ai.AI at 0x7fb030121400>,\n",
       "  <ai.AI at 0x7fb030121438>,\n",
       "  <ai.AI at 0x7fb030121470>])"
      ]
     },
     "execution_count": 4,
     "metadata": {},
     "output_type": "execute_result"
    }
   ],
   "source": [
    "state"
   ]
  },
  {
   "cell_type": "code",
   "execution_count": 5,
   "metadata": {},
   "outputs": [
    {
     "data": {
      "text/plain": [
       "('domino1', (0, 0), 'south')"
      ]
     },
     "execution_count": 5,
     "metadata": {},
     "output_type": "execute_result"
    }
   ],
   "source": [
    "action = \"domino1;(0,0);south\"\n",
    "string_to_action(action)"
   ]
  },
  {
   "cell_type": "code",
   "execution_count": 6,
   "metadata": {},
   "outputs": [
    {
     "data": {
      "text/plain": [
       "True"
      ]
     },
     "execution_count": 6,
     "metadata": {},
     "output_type": "execute_result"
    }
   ],
   "source": [
    "env.is_valid_action(state, 0, action)"
   ]
  },
  {
   "cell_type": "code",
   "execution_count": 7,
   "metadata": {},
   "outputs": [
    {
     "data": {
      "text/plain": [
       "{'monomino1': defaultdict(list,\n",
       "             {(0, 0): ['north',\n",
       "               'northwest',\n",
       "               'south',\n",
       "               'southeast',\n",
       "               'west',\n",
       "               'southwest',\n",
       "               'northeast',\n",
       "               'east'],\n",
       "              (19, 0): ['north',\n",
       "               'northwest',\n",
       "               'south',\n",
       "               'southeast',\n",
       "               'west',\n",
       "               'southwest',\n",
       "               'northeast',\n",
       "               'east'],\n",
       "              (0, 19): ['north',\n",
       "               'northwest',\n",
       "               'south',\n",
       "               'southeast',\n",
       "               'west',\n",
       "               'southwest',\n",
       "               'northeast',\n",
       "               'east'],\n",
       "              (19, 19): ['north',\n",
       "               'northwest',\n",
       "               'south',\n",
       "               'southeast',\n",
       "               'west',\n",
       "               'southwest',\n",
       "               'northeast',\n",
       "               'east']}),\n",
       " 'domino1': defaultdict(list,\n",
       "             {(0, 0): ['south', 'southeast', 'northeast', 'east'],\n",
       "              (19, 0): ['south', 'southeast', 'west', 'southwest'],\n",
       "              (0, 19): ['north', 'northwest', 'northeast', 'east'],\n",
       "              (19, 19): ['north', 'northwest', 'west', 'southwest']}),\n",
       " 'trominoe1': defaultdict(list,\n",
       "             {(0, 0): ['southeast', 'east'],\n",
       "              (19, 0): ['south', 'southwest'],\n",
       "              (0, 19): ['north', 'northeast'],\n",
       "              (19, 19): ['northwest', 'west']}),\n",
       " 'trominoe2': defaultdict(list,\n",
       "             {(0, 0): ['south', 'southeast', 'northeast', 'east'],\n",
       "              (19, 0): ['south', 'southeast', 'west', 'southwest'],\n",
       "              (0, 19): ['north', 'northwest', 'northeast', 'east'],\n",
       "              (19, 19): ['north', 'northwest', 'west', 'southwest']}),\n",
       " 'tetrominoes1': defaultdict(list,\n",
       "             {(0, 0): ['southeast', 'east'],\n",
       "              (19, 0): ['south', 'southwest'],\n",
       "              (0, 19): ['north', 'northeast'],\n",
       "              (19, 19): ['northwest', 'west']}),\n",
       " 'tetrominoes2': defaultdict(list,\n",
       "             {(0, 0): ['south', 'northeast'],\n",
       "              (19, 0): ['southeast', 'west'],\n",
       "              (0, 19): ['northwest', 'east'],\n",
       "              (19, 19): ['north', 'southwest']}),\n",
       " 'tetrominoes3': defaultdict(list,\n",
       "             {(0, 0): ['south', 'southeast', 'northeast', 'east'],\n",
       "              (19, 0): ['south', 'southeast', 'west', 'southwest'],\n",
       "              (0, 19): ['north', 'northwest', 'northeast', 'east'],\n",
       "              (19, 19): ['north', 'northwest', 'west', 'southwest']}),\n",
       " 'tetrominoes4': defaultdict(list,\n",
       "             {(0, 0): ['south', 'northeast'],\n",
       "              (19, 0): ['southeast', 'west'],\n",
       "              (0, 19): ['northwest', 'east'],\n",
       "              (19, 19): ['north', 'southwest']}),\n",
       " 'tetrominoes5': defaultdict(list,\n",
       "             {(0, 0): ['south', 'northeast'],\n",
       "              (19, 0): ['southeast', 'west'],\n",
       "              (0, 19): ['northwest', 'east'],\n",
       "              (19, 19): ['north', 'southwest']}),\n",
       " 'pentominoe1': defaultdict(list,\n",
       "             {(0, 0): ['south', 'northeast'],\n",
       "              (19, 0): ['southeast', 'west'],\n",
       "              (0, 19): ['northwest', 'east'],\n",
       "              (19, 19): ['north', 'southwest']}),\n",
       " 'pentominoe3': defaultdict(list,\n",
       "             {(0, 0): ['south', 'northeast'],\n",
       "              (19, 0): ['southeast', 'west'],\n",
       "              (0, 19): ['northwest', 'east'],\n",
       "              (19, 19): ['north', 'southwest']}),\n",
       " 'pentominoe4': defaultdict(list,\n",
       "             {(0, 0): ['south', 'northeast'],\n",
       "              (19, 0): ['southeast', 'west'],\n",
       "              (0, 19): ['northwest', 'east'],\n",
       "              (19, 19): ['north', 'southwest']}),\n",
       " 'pentominoe6': defaultdict(list,\n",
       "             {(0, 0): ['south', 'southeast', 'northeast', 'east'],\n",
       "              (19, 0): ['south', 'southeast', 'west', 'southwest'],\n",
       "              (0, 19): ['north', 'northwest', 'northeast', 'east'],\n",
       "              (19, 19): ['north', 'northwest', 'west', 'southwest']}),\n",
       " 'pentominoe7': defaultdict(list,\n",
       "             {(0, 0): ['south', 'northeast'],\n",
       "              (19, 0): ['southeast', 'west'],\n",
       "              (0, 19): ['northwest', 'east'],\n",
       "              (19, 19): ['north', 'southwest']}),\n",
       " 'pentominoe9': defaultdict(list,\n",
       "             {(0, 0): ['southeast', 'east'],\n",
       "              (19, 0): ['south', 'southwest'],\n",
       "              (0, 19): ['north', 'northeast'],\n",
       "              (19, 19): ['northwest', 'west']}),\n",
       " 'pentominoe12': defaultdict(list,\n",
       "             {(0, 0): ['south', 'northeast'],\n",
       "              (19, 0): ['southeast', 'west'],\n",
       "              (0, 19): ['northwest', 'east'],\n",
       "              (19, 19): ['north', 'southwest']})}"
      ]
     },
     "execution_count": 7,
     "metadata": {},
     "output_type": "execute_result"
    }
   ],
   "source": [
    "state[2][0].collect_moves(0)"
   ]
  },
  {
   "cell_type": "code",
   "execution_count": 8,
   "metadata": {},
   "outputs": [],
   "source": [
    "new_state = env.next_state(state, 0, action)"
   ]
  },
  {
   "cell_type": "code",
   "execution_count": 9,
   "metadata": {},
   "outputs": [
    {
     "name": "stdout",
     "output_type": "stream",
     "text": [
      "\n",
      "======================= CURRENT BOARD =======================\n",
      "   1  2  3  4  5  6  7  8  9  10 11 12 13 14 15 16 17 18 19 20\n",
      "1  R  .  .  .  .  .  .  .  .  .  .  .  .  .  .  .  .  .  .  . \n",
      "2  R  .  .  .  .  .  .  .  .  .  .  .  .  .  .  .  .  .  .  . \n",
      "3  .  .  .  .  .  .  .  .  .  .  .  .  .  .  .  .  .  .  .  . \n",
      "4  .  .  .  .  .  .  .  .  .  .  .  .  .  .  .  .  .  .  .  . \n",
      "5  .  .  .  .  .  .  .  .  .  .  .  .  .  .  .  .  .  .  .  . \n",
      "6  .  .  .  .  .  .  .  .  .  .  .  .  .  .  .  .  .  .  .  . \n",
      "7  .  .  .  .  .  .  .  .  .  .  .  .  .  .  .  .  .  .  .  . \n",
      "8  .  .  .  .  .  .  .  .  .  .  .  .  .  .  .  .  .  .  .  . \n",
      "9  .  .  .  .  .  .  .  .  .  .  .  .  .  .  .  .  .  .  .  . \n",
      "10 .  .  .  .  .  .  .  .  .  .  .  .  .  .  .  .  .  .  .  . \n",
      "11 .  .  .  .  .  .  .  .  .  .  .  .  .  .  .  .  .  .  .  . \n",
      "12 .  .  .  .  .  .  .  .  .  .  .  .  .  .  .  .  .  .  .  . \n",
      "13 .  .  .  .  .  .  .  .  .  .  .  .  .  .  .  .  .  .  .  . \n",
      "14 .  .  .  .  .  .  .  .  .  .  .  .  .  .  .  .  .  .  .  . \n",
      "15 .  .  .  .  .  .  .  .  .  .  .  .  .  .  .  .  .  .  .  . \n",
      "16 .  .  .  .  .  .  .  .  .  .  .  .  .  .  .  .  .  .  .  . \n",
      "17 .  .  .  .  .  .  .  .  .  .  .  .  .  .  .  .  .  .  .  . \n",
      "18 .  .  .  .  .  .  .  .  .  .  .  .  .  .  .  .  .  .  .  . \n",
      "19 .  .  .  .  .  .  .  .  .  .  .  .  .  .  .  .  .  .  .  . \n",
      "20 .  .  .  .  .  .  .  .  .  .  .  .  .  .  .  .  .  .  .  . \n",
      "\n",
      "======================================\n",
      "ROUND: 0             CURRENT PLAYER: B \n",
      "======================================\n",
      "SCORES:  R = 2 | B = 0 | G = 0 | Y = 0\n"
     ]
    }
   ],
   "source": [
    "new_state[0][0].display_board(new_state[0][2][1], new_state[0][2], 0, False)"
   ]
  },
  {
   "cell_type": "code",
   "execution_count": null,
   "metadata": {},
   "outputs": [],
   "source": []
  }
 ],
 "metadata": {
  "kernelspec": {
   "display_name": "Python 3",
   "language": "python",
   "name": "python3"
  },
  "language_info": {
   "codemirror_mode": {
    "name": "ipython",
    "version": 3
   },
   "file_extension": ".py",
   "mimetype": "text/x-python",
   "name": "python",
   "nbconvert_exporter": "python",
   "pygments_lexer": "ipython3",
   "version": "3.6.7"
  }
 },
 "nbformat": 4,
 "nbformat_minor": 2
}
